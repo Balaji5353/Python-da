{
 "cells": [
  {
   "cell_type": "code",
   "execution_count": 3,
   "id": "22df3067",
   "metadata": {},
   "outputs": [],
   "source": [
    "import numpy as np"
   ]
  },
  {
   "cell_type": "code",
   "execution_count": 4,
   "id": "f585dddc",
   "metadata": {},
   "outputs": [],
   "source": [
    "data = np.loadtxt(r\"C:\\Users\\Admin\\OneDrive\\Desktop\\balaji\\Python\\fit.txt\",dtype=str)"
   ]
  },
  {
   "cell_type": "code",
   "execution_count": 5,
   "id": "b82466b4",
   "metadata": {},
   "outputs": [
    {
     "data": {
      "text/plain": [
       "array([['06-10-2017', '5464', 'Neutral', '181', '5', 'Inactive'],\n",
       "       ['07-10-2017', '6041', 'Sad', '197', '8', 'Inactive'],\n",
       "       ['08-10-2017', '25', 'Sad', '0', '5', 'Inactive'],\n",
       "       ['09-10-2017', '5461', 'Sad', '174', '4', 'Inactive'],\n",
       "       ['10-10-2017', '6915', 'Neutral', '223', '5', 'Active']],\n",
       "      dtype='<U10')"
      ]
     },
     "execution_count": 5,
     "metadata": {},
     "output_type": "execute_result"
    }
   ],
   "source": [
    "data[0:5,:]"
   ]
  },
  {
   "cell_type": "code",
   "execution_count": 6,
   "id": "d01a0845",
   "metadata": {},
   "outputs": [
    {
     "data": {
      "text/plain": [
       "(96, 6)"
      ]
     },
     "execution_count": 6,
     "metadata": {},
     "output_type": "execute_result"
    }
   ],
   "source": [
    "data.shape"
   ]
  },
  {
   "cell_type": "code",
   "execution_count": 7,
   "id": "52598406",
   "metadata": {},
   "outputs": [],
   "source": [
    "date = data[:,0]\n",
    "step_count = data[:,1]\n",
    "mood = data[:,2]\n",
    "calories_burned = data[:,3]\n",
    "hours_of_sleep = data[:,4]\n",
    "active = data[:,5]"
   ]
  },
  {
   "cell_type": "code",
   "execution_count": 8,
   "id": "401ed45a",
   "metadata": {},
   "outputs": [],
   "source": [
    "step_count = np.array(step_count,dtype=int)\n",
    "calories_burned = np.array(calories_burned,dtype=int)\n",
    "hours_of_sleep = np.array(hours_of_sleep,dtype=int)\n"
   ]
  },
  {
   "cell_type": "code",
   "execution_count": 9,
   "id": "a0a31bf4",
   "metadata": {},
   "outputs": [
    {
     "data": {
      "text/plain": [
       "2936.0"
      ]
     },
     "execution_count": 9,
     "metadata": {},
     "output_type": "execute_result"
    }
   ],
   "source": [
    "step_count.mean().round()"
   ]
  },
  {
   "cell_type": "code",
   "execution_count": 10,
   "id": "f2795eae",
   "metadata": {},
   "outputs": [
    {
     "data": {
      "text/plain": [
       "(array(['Happy', 'Neutral', 'Sad'], dtype='<U10'),\n",
       " array([40, 27, 29], dtype=int64))"
      ]
     },
     "execution_count": 10,
     "metadata": {},
     "output_type": "execute_result"
    }
   ],
   "source": [
    "np.unique(mood,return_counts=True)"
   ]
  },
  {
   "cell_type": "code",
   "execution_count": 11,
   "id": "dac52403",
   "metadata": {},
   "outputs": [
    {
     "data": {
      "text/plain": [
       "(array(['Active', 'Inactive'], dtype='<U10'), array([42, 54], dtype=int64))"
      ]
     },
     "execution_count": 11,
     "metadata": {},
     "output_type": "execute_result"
    }
   ],
   "source": [
    "np.unique(active,return_counts=True)"
   ]
  },
  {
   "cell_type": "code",
   "execution_count": 12,
   "id": "1b1fd5df",
   "metadata": {},
   "outputs": [
    {
     "data": {
      "text/plain": [
       "'\\n1. on which day the step count was highest and the calories burned ?\\nhypothesis: more steps count,more calories\\n'"
      ]
     },
     "execution_count": 12,
     "metadata": {},
     "output_type": "execute_result"
    }
   ],
   "source": [
    "'''\n",
    "1. on which day the step count was highest and the calories burned ?\n",
    "hypothesis: more steps count,more calories\n",
    "'''"
   ]
  },
  {
   "cell_type": "code",
   "execution_count": 13,
   "id": "3de5426d",
   "metadata": {},
   "outputs": [
    {
     "data": {
      "text/plain": [
       "7422"
      ]
     },
     "execution_count": 13,
     "metadata": {},
     "output_type": "execute_result"
    }
   ],
   "source": [
    "np.max(step_count)"
   ]
  },
  {
   "cell_type": "code",
   "execution_count": 14,
   "id": "de02c614",
   "metadata": {},
   "outputs": [
    {
     "data": {
      "text/plain": [
       "69"
      ]
     },
     "execution_count": 14,
     "metadata": {},
     "output_type": "execute_result"
    }
   ],
   "source": [
    "np.argmax(step_count)"
   ]
  },
  {
   "cell_type": "code",
   "execution_count": 15,
   "id": "b3db65a7",
   "metadata": {},
   "outputs": [
    {
     "data": {
      "text/plain": [
       "'14-12-2017'"
      ]
     },
     "execution_count": 15,
     "metadata": {},
     "output_type": "execute_result"
    }
   ],
   "source": [
    "date[np.argmax(step_count)]"
   ]
  },
  {
   "cell_type": "code",
   "execution_count": 16,
   "id": "70fbc4c3",
   "metadata": {},
   "outputs": [
    {
     "data": {
      "text/plain": [
       "243"
      ]
     },
     "execution_count": 16,
     "metadata": {},
     "output_type": "execute_result"
    }
   ],
   "source": [
    "calories_burned[np.argmax(step_count)]  "
   ]
  },
  {
   "cell_type": "code",
   "execution_count": 17,
   "id": "7072663b",
   "metadata": {},
   "outputs": [
    {
     "data": {
      "text/plain": [
       "2"
      ]
     },
     "execution_count": 17,
     "metadata": {},
     "output_type": "execute_result"
    }
   ],
   "source": [
    "np.argmin(step_count)"
   ]
  },
  {
   "cell_type": "code",
   "execution_count": 18,
   "id": "5b6014df",
   "metadata": {},
   "outputs": [
    {
     "data": {
      "text/plain": [
       "0"
      ]
     },
     "execution_count": 18,
     "metadata": {},
     "output_type": "execute_result"
    }
   ],
   "source": [
    "calories_burned[np.argmin(step_count)]  "
   ]
  },
  {
   "cell_type": "code",
   "execution_count": 19,
   "id": "eca3cbab",
   "metadata": {},
   "outputs": [
    {
     "data": {
      "text/plain": [
       "93.44791666666667"
      ]
     },
     "execution_count": 19,
     "metadata": {},
     "output_type": "execute_result"
    }
   ],
   "source": [
    "np.mean(calories_burned)"
   ]
  },
  {
   "cell_type": "code",
   "execution_count": 20,
   "id": "b537ad33",
   "metadata": {},
   "outputs": [
    {
     "data": {
      "text/plain": [
       "2935.9375"
      ]
     },
     "execution_count": 20,
     "metadata": {},
     "output_type": "execute_result"
    }
   ],
   "source": [
    "np.mean(step_count)\n"
   ]
  },
  {
   "cell_type": "code",
   "execution_count": 21,
   "id": "7017220c",
   "metadata": {},
   "outputs": [
    {
     "data": {
      "text/plain": [
       "' \\nhypothesis: more steps count,better mood\\n'"
      ]
     },
     "execution_count": 21,
     "metadata": {},
     "output_type": "execute_result"
    }
   ],
   "source": [
    "''' \n",
    "hypothesis: more steps count,better mood\n",
    "'''"
   ]
  },
  {
   "cell_type": "code",
   "execution_count": 32,
   "id": "a81f422f",
   "metadata": {},
   "outputs": [
    {
     "data": {
      "text/plain": [
       "2103.0"
      ]
     },
     "execution_count": 32,
     "metadata": {},
     "output_type": "execute_result"
    }
   ],
   "source": [
    "np.mean(step_count[mood == 'Sad']).round()\n",
    "\n"
   ]
  },
  {
   "cell_type": "code",
   "execution_count": 31,
   "id": "c058ca95",
   "metadata": {},
   "outputs": [
    {
     "data": {
      "text/plain": [
       "3393.0"
      ]
     },
     "execution_count": 31,
     "metadata": {},
     "output_type": "execute_result"
    }
   ],
   "source": [
    "step_count[mood == 'Happy'].mean().round()"
   ]
  },
  {
   "cell_type": "code",
   "execution_count": 30,
   "id": "12cf1aad",
   "metadata": {},
   "outputs": [
    {
     "data": {
      "text/plain": [
       "3154.0"
      ]
     },
     "execution_count": 30,
     "metadata": {},
     "output_type": "execute_result"
    }
   ],
   "source": [
    "step_count[mood == 'Neutral'].mean().round()"
   ]
  },
  {
   "cell_type": "code",
   "execution_count": null,
   "id": "bedd9300",
   "metadata": {},
   "outputs": [
    {
     "data": {
      "text/plain": [
       "(array(['Happy', 'Neutral', 'Sad'], dtype='<U10'),\n",
       " array([22,  9,  7], dtype=int64))"
      ]
     },
     "execution_count": 28,
     "metadata": {},
     "output_type": "execute_result"
    }
   ],
   "source": [
    "# what is my usual mood when step count > 4000 : how many times\n",
    "\n",
    "np.unique(mood[step_count > 4000], return_counts=True)"
   ]
  },
  {
   "cell_type": "code",
   "execution_count": 29,
   "id": "41857cb0",
   "metadata": {},
   "outputs": [
    {
     "data": {
      "text/plain": [
       "(array(['Happy', 'Neutral', 'Sad'], dtype='<U10'),\n",
       " array([13,  8, 18], dtype=int64))"
      ]
     },
     "execution_count": 29,
     "metadata": {},
     "output_type": "execute_result"
    }
   ],
   "source": [
    "np.unique(mood[step_count < 2000], return_counts=True)"
   ]
  },
  {
   "cell_type": "code",
   "execution_count": null,
   "id": "a4658d0d",
   "metadata": {},
   "outputs": [],
   "source": []
  },
  {
   "cell_type": "code",
   "execution_count": null,
   "id": "3b3597d3",
   "metadata": {},
   "outputs": [],
   "source": []
  },
  {
   "cell_type": "code",
   "execution_count": null,
   "id": "52f64c86",
   "metadata": {},
   "outputs": [],
   "source": []
  }
 ],
 "metadata": {
  "kernelspec": {
   "display_name": "base",
   "language": "python",
   "name": "python3"
  },
  "language_info": {
   "codemirror_mode": {
    "name": "ipython",
    "version": 3
   },
   "file_extension": ".py",
   "mimetype": "text/x-python",
   "name": "python",
   "nbconvert_exporter": "python",
   "pygments_lexer": "ipython3",
   "version": "3.12.7"
  }
 },
 "nbformat": 4,
 "nbformat_minor": 5
}
