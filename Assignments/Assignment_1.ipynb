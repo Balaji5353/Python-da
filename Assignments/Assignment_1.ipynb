{
 "cells": [
  {
   "cell_type": "code",
   "execution_count": 2,
   "id": "2417c6b2",
   "metadata": {},
   "outputs": [
    {
     "name": "stdout",
     "output_type": "stream",
     "text": [
      "Name : Balaji Raut\n",
      "favourite colour : Black\n"
     ]
    }
   ],
   "source": [
    "#1.Write a Python program to print your name and favourite colour on two separate lines.\n",
    "\n",
    "print(\"Name : Balaji Raut\")\n",
    "print(\"favourite colour : Black\")"
   ]
  },
  {
   "cell_type": "code",
   "execution_count": 3,
   "id": "0d099fd0",
   "metadata": {},
   "outputs": [
    {
     "name": "stdout",
     "output_type": "stream",
     "text": [
      "The result of adding 7 and 8 is: 15\n"
     ]
    }
   ],
   "source": [
    "#2.Write a Python program that prints the result of adding 7 and 8.\n",
    "\n",
    "result = 7 + 8\n",
    "print(\"The result of adding 7 and 8 is:\", result)\n"
   ]
  },
  {
   "cell_type": "code",
   "execution_count": 4,
   "id": "45b66169",
   "metadata": {},
   "outputs": [
    {
     "name": "stdout",
     "output_type": "stream",
     "text": [
      "Python is fun!\n",
      "Let's learn together.\n"
     ]
    }
   ],
   "source": [
    "#3.Use the print function to display the following text exactly as it is:\n",
    "\n",
    "print(\"Python is fun!\")\n",
    "print(\"Let's learn together.\")"
   ]
  },
  {
   "cell_type": "code",
   "execution_count": 5,
   "id": "ee73a79a",
   "metadata": {},
   "outputs": [
    {
     "name": "stdout",
     "output_type": "stream",
     "text": [
      "The result of multiplying 6 by 9 is: 54\n"
     ]
    }
   ],
   "source": [
    "#4.Write a Python program to calculate and print the result of multiplying 6 by 9.\n",
    "result = 6 * 9\n",
    "print(\"The result of multiplying 6 by 9 is:\", result)"
   ]
  },
  {
   "cell_type": "code",
   "execution_count": 6,
   "id": "d70fb9bb",
   "metadata": {},
   "outputs": [
    {
     "name": "stdout",
     "output_type": "stream",
     "text": [
      "The result of adding 5 + 5 is: 10 and the result of multiplying 2 * 3 is: 6\n"
     ]
    }
   ],
   "source": [
    "#5.Write a Python program that prints the result of adding 5 + 5 and multiplying 2 * 3 in a single line of code.\n",
    "addition = 5 + 5\n",
    "multiplication = 2 * 3 \n",
    "print(\"The result of adding 5 + 5 is:\", addition, \"and the result of multiplying 2 * 3 is:\", multiplication) \n"
   ]
  }
 ],
 "metadata": {
  "kernelspec": {
   "display_name": "base",
   "language": "python",
   "name": "python3"
  },
  "language_info": {
   "codemirror_mode": {
    "name": "ipython",
    "version": 3
   },
   "file_extension": ".py",
   "mimetype": "text/x-python",
   "name": "python",
   "nbconvert_exporter": "python",
   "pygments_lexer": "ipython3",
   "version": "3.12.7"
  }
 },
 "nbformat": 4,
 "nbformat_minor": 5
}
