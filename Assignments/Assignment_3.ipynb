{
 "cells": [
  {
   "cell_type": "code",
   "execution_count": 4,
   "id": "c09d5d9d",
   "metadata": {},
   "outputs": [
    {
     "name": "stdout",
     "output_type": "stream",
     "text": [
      "3\n"
     ]
    }
   ],
   "source": [
    "# Create a variable x with the value 15 . Perform floored division by 4 and\n",
    "# print the result. What is the difference between floored division and normal\n",
    "# division?\n",
    "x = 15\n",
    "result = x // 4\n",
    "print(result)"
   ]
  },
  {
   "cell_type": "code",
   "execution_count": 5,
   "id": "2ec1adde",
   "metadata": {},
   "outputs": [
    {
     "name": "stdout",
     "output_type": "stream",
     "text": [
      "8 ** 2 = 64\n",
      "16 ** 0.5 = 4.0\n"
     ]
    }
   ],
   "source": [
    "# Write a program to calculate 8 ** 2 and 16 ** 0.5 . Print both results and\n",
    "# describe what each represents.\n",
    "result_1 = 8 ** 2\n",
    "result_2 = 16 ** 0.5\n",
    "print(\"8 ** 2 =\", result_1 )   # Represents 8 raised to the power of 2\n",
    "print(\"16 ** 0.5 =\", result_2) # Represents the square root of\n"
   ]
  },
  {
   "cell_type": "code",
   "execution_count": 6,
   "id": "5fc9c76c",
   "metadata": {},
   "outputs": [
    {
     "name": "stdout",
     "output_type": "stream",
     "text": [
      "Result of the expression 20 - 5 * 3 + 8 / 4 = 7.0\n"
     ]
    }
   ],
   "source": [
    "# Use arithmetic operators to solve the following expression: 20 - 5 * 3 + 8 /\n",
    "# 4 . Use parentheses to make sure the addition happens before\n",
    "# multiplication. Print the output.\n",
    "expression = 20 - (5 * 3) + (8 / 4)\n",
    "print(\"Result of the expression 20 - 5 * 3 + 8 / 4 =\", expression)"
   ]
  },
  {
   "cell_type": "code",
   "execution_count": 8,
   "id": "9c97ac82",
   "metadata": {},
   "outputs": [
    {
     "name": "stdout",
     "output_type": "stream",
     "text": [
      "Converted to float: 7.0\n"
     ]
    }
   ],
   "source": [
    "# Assign the value 7 to a variable num . Convert it to a float and print the\n",
    "# result. What is the difference between 7 and 7.0 ?\n",
    "num = 7\n",
    "num_float = float(num)\n",
    "print(\"Converted to float:\", num_float)"
   ]
  },
  {
   "cell_type": "code",
   "execution_count": 16,
   "id": "e443753f",
   "metadata": {},
   "outputs": [
    {
     "name": "stdout",
     "output_type": "stream",
     "text": [
      "100 > 50 is True :This is a boolean value (True or False)\n"
     ]
    }
   ],
   "source": [
    "# Use a comparison operator to check if 100 is greater than 50 . Print the\n",
    "# result and indicate what type of value this is.\n",
    "comparison = 100 > 50\n",
    "print(\"100 > 50 is\", comparison,\":This is a boolean value (True or False)\") # This is a boolean value (True or False)."
   ]
  },
  {
   "cell_type": "code",
   "execution_count": 19,
   "id": "419a6d13",
   "metadata": {},
   "outputs": [
    {
     "name": "stdout",
     "output_type": "stream",
     "text": [
      "Is it sunny and the weekend? : False\n"
     ]
    }
   ],
   "source": [
    "# Assign True to a variable is_sunny and False to is_weekend . Use logical\n",
    "# operators to check if it is sunny and the weekend ( is_sunny and is_weekend ).\n",
    "# Print the result\n",
    "is_sunny = True\n",
    "is_weekend = False\n",
    "logical_opperator = is_sunny and is_weekend\n",
    "print(\"Is it sunny and the weekend? :\",logical_opperator) # This will print False since"
   ]
  },
  {
   "cell_type": "code",
   "execution_count": 24,
   "id": "12ff6a10",
   "metadata": {},
   "outputs": [
    {
     "name": "stdout",
     "output_type": "stream",
     "text": [
      "True\n"
     ]
    }
   ],
   "source": [
    "# Create a variable password and set it to \"my_password123\" . Ask the user to input\n",
    "# a password and print True if the input matches the value of password ,\n",
    "# otherwise print False .\n",
    "password = \"my_password123\"\n",
    "user_input = input(\"Enter the password: \")\n",
    "print(user_input == password)  # This will print True if the input matches the password, otherwise False."
   ]
  },
  {
   "cell_type": "code",
   "execution_count": 23,
   "id": "1c3c3b3d",
   "metadata": {},
   "outputs": [
    {
     "name": "stdout",
     "output_type": "stream",
     "text": [
      "False\n"
     ]
    }
   ],
   "source": [
    "login = \"pass123\"\n",
    "input_pass = input(\"Enter the password: \")\n",
    "print(input_pass == login)\n"
   ]
  },
  {
   "cell_type": "code",
   "execution_count": null,
   "id": "d7ee1cc5",
   "metadata": {},
   "outputs": [
    {
     "name": "stdout",
     "output_type": "stream",
     "text": [
      "New marks after incrementing by 5: 55\n"
     ]
    }
   ],
   "source": [
    "# Assign the value 50 to a variable marks . Increment the value of marks by 5\n",
    "# using the += operator, then print the new value.\n",
    "marks = 50\n",
    "marks += 5\n",
    "print(\"New marks after incrementing by 5:\", marks) "
   ]
  },
  {
   "cell_type": "code",
   "execution_count": 26,
   "id": "931aa211",
   "metadata": {},
   "outputs": [
    {
     "name": "stdout",
     "output_type": "stream",
     "text": [
      "Result of a or b: 10\n"
     ]
    }
   ],
   "source": [
    "# Write a program to check if the value of a = 0 and b = 10 satisfies a or b .\n",
    "# Print the output and explain why it gives that result\n",
    "a = 0\n",
    "b = 10\n",
    "result = a or b\n",
    "print(\"Result of a or b:\", result)  #  0 is considered False and any non-zero value is considered True."
   ]
  },
  {
   "cell_type": "code",
   "execution_count": 30,
   "id": "47c0d611",
   "metadata": {},
   "outputs": [
    {
     "name": "stdout",
     "output_type": "stream",
     "text": [
      "Negation of False using not: True\n"
     ]
    }
   ],
   "source": [
    "# Use not to negate the value of False and print the result. Explain what the\n",
    "# not operator does in Python\n",
    "not_value = not False\n",
    "print(\"Negation of False using not:\", not_value)  # The not operator negates"
   ]
  }
 ],
 "metadata": {
  "kernelspec": {
   "display_name": "base",
   "language": "python",
   "name": "python3"
  },
  "language_info": {
   "codemirror_mode": {
    "name": "ipython",
    "version": 3
   },
   "file_extension": ".py",
   "mimetype": "text/x-python",
   "name": "python",
   "nbconvert_exporter": "python",
   "pygments_lexer": "ipython3",
   "version": "3.12.7"
  }
 },
 "nbformat": 4,
 "nbformat_minor": 5
}
