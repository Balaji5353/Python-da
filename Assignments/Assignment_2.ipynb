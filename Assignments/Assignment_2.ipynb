{
 "cells": [
  {
   "cell_type": "code",
   "execution_count": 1,
   "id": "c6820b0a",
   "metadata": {},
   "outputs": [
    {
     "name": "stdout",
     "output_type": "stream",
     "text": [
      "Age: 25\n",
      "Data type of age: <class 'int'>\n"
     ]
    }
   ],
   "source": [
    "#1.Create a variable age and assign it the value 25 . Then print the value of\n",
    "#age along with its data type using the type() function.\n",
    "age = 25\n",
    "print(\"Age:\", age)\n",
    "print(\"Data type of age:\", type(age))\n"
   ]
  },
  {
   "cell_type": "code",
   "execution_count": 2,
   "id": "faf3d02b",
   "metadata": {},
   "outputs": [
    {
     "name": "stdout",
     "output_type": "stream",
     "text": [
      "Price: 12.5\n",
      "Data type of price: <class 'float'>\n"
     ]
    }
   ],
   "source": [
    "#2.Assign the number 12.5 to a variable price . Print both the variable and its\n",
    "# data type. Then assign the value 12 to the same variable and print its data\n",
    "# type again. What do you observe?\n",
    "price = 12.5\n",
    "print(\"Price:\", price)\n",
    "print(\"Data type of price:\", type(price))"
   ]
  },
  {
   "cell_type": "code",
   "execution_count": 3,
   "id": "68414e6f",
   "metadata": {},
   "outputs": [
    {
     "name": "stdout",
     "output_type": "stream",
     "text": [
      "price: 12\n",
      "data type of price after reassignment: <class 'int'>\n"
     ]
    }
   ],
   "source": [
    "price = 12\n",
    "print(\"price:\",price)\n",
    "print(\"data type of price after reassignment:\", type(price))"
   ]
  },
  {
   "cell_type": "code",
   "execution_count": 4,
   "id": "9695c168",
   "metadata": {},
   "outputs": [
    {
     "name": "stdout",
     "output_type": "stream",
     "text": [
      "Is it raining? True\n",
      "Data type of is_raining: <class 'bool'>\n",
      "Is it raining? False\n",
      "Data type of is_raining after reassignment: <class 'bool'>\n"
     ]
    }
   ],
   "source": [
    "#3.Create a variable is_raining and set it to True . Print the value of the variable\n",
    "# along with its type. Then set is_raining to False and print the new value and\n",
    "# type.\n",
    "is_raining = True\n",
    "print(\"Is it raining?\", is_raining)\n",
    "print(\"Data type of is_raining:\", type(is_raining))\n",
    "is_raining = False\n",
    "print(\"Is it raining?\", is_raining)\n",
    "print(\"Data type of is_raining after reassignment:\", type(is_raining))"
   ]
  },
  {
   "cell_type": "code",
   "execution_count": 5,
   "id": "db322681",
   "metadata": {},
   "outputs": [
    {
     "name": "stdout",
     "output_type": "stream",
     "text": [
      "my_name_is: Balaji Raut\n"
     ]
    }
   ],
   "source": [
    "#4.Create a variable my_name and store your full name in it as a string. Then\n",
    "# print the value of my_name using single quotes ' .\n",
    "my_name = \"Balaji Raut\"\n",
    "print('my_name_is:', my_name)"
   ]
  },
  {
   "cell_type": "code",
   "execution_count": 6,
   "id": "0dec3474",
   "metadata": {},
   "outputs": [
    {
     "name": "stdout",
     "output_type": "stream",
     "text": [
      "Hello,Balaji! You are 25 years old.\n"
     ]
    }
   ],
   "source": [
    "#5.Write a Python program that asks the user for their name and age using the\n",
    "# input() function. Store the inputs in variables and print a sentence like\n",
    "# \"Hello, [Name]! You are [Age] years old.\" Ensure you cast the age to an\n",
    "# integer.\n",
    "name = input(\"Please enter your name: \")\n",
    "age = int(input(\"Please enter your age: \"))\n",
    "print(f\"Hello,{name}! You are {age} years old.\")\n"
   ]
  },
  {
   "cell_type": "code",
   "execution_count": 7,
   "id": "41b5e9da",
   "metadata": {},
   "outputs": [
    {
     "name": "stdout",
     "output_type": "stream",
     "text": [
      "value_of x: 10 and type of x: <class 'int'>\n",
      "value_of y: 3.5 and type of y: <class 'float'>\n",
      "sum of x and y is: 13.5 and type of sum_xy is: <class 'float'>\n"
     ]
    }
   ],
   "source": [
    "#6.Create two variables x and y and assign them the values 10 and 3.5 ,\n",
    "# respectively. Print their values and types. Then, create a new variable\n",
    "# sum_xy and store the sum of x and y . Print the result and its type.\n",
    "x = 10\n",
    "y = 3.5\n",
    "print(\"value_of x:\",x, \"and type of x:\",type(x))\n",
    "print(\"value_of y:\",y, \"and type of y:\",type(y))\n",
    "\n",
    "sum_xy = x + y\n",
    "print(\"sum of x and y is:\",sum_xy,\"and type of sum_xy is:\",type(sum_xy))"
   ]
  },
  {
   "cell_type": "code",
   "execution_count": 8,
   "id": "b7b4ceb6",
   "metadata": {},
   "outputs": [
    {
     "name": "stdout",
     "output_type": "stream",
     "text": [
      "Data type of 45.0: <class 'float'>\n",
      "Data type of 'hello': <class 'str'>\n",
      "Data type of None: <class 'NoneType'>\n",
      "Data type of False: <class 'bool'>\n"
     ]
    }
   ],
   "source": [
    "#7.Using the type() function, check and print the data type of the following:\n",
    "# 45.0\n",
    "# \"hello\"\n",
    "# None\n",
    "# False\n",
    "print(\"Data type of 45.0:\",type(45.0))\n",
    "print(\"Data type of 'hello':\",type(\"hello\"))\n",
    "print(\"Data type of None:\",type(None))\n",
    "print(\"Data type of False:\",type(False))"
   ]
  },
  {
   "cell_type": "code",
   "execution_count": 9,
   "id": "f52fa4a3",
   "metadata": {},
   "outputs": [
    {
     "name": "stdout",
     "output_type": "stream",
     "text": [
      "apple banana cherry\n",
      "apple, banana, cherry\n"
     ]
    }
   ],
   "source": [
    "#8.Write a Python program to print three strings \"apple\" , \"banana\" , and \"cherry\"\n",
    "# on the same line, separated by a space. Then modify the program to\n",
    "# separate the strings using a comma , instead of a space.\n",
    "print(\"apple\", \"banana\", \"cherry\")  # Using space as separator\n",
    "print(\"apple\", \"banana\", \"cherry\", sep=\", \")  # Using comma as separator"
   ]
  },
  {
   "cell_type": "code",
   "execution_count": 10,
   "id": "c0fb1fdc",
   "metadata": {},
   "outputs": [
    {
     "name": "stdout",
     "output_type": "stream",
     "text": [
      "Big number: 987654321987654321\n",
      "data type of num is: <class 'int'>\n"
     ]
    }
   ],
   "source": [
    "#9.Create a variable big_number and assign it a very large integer value (e.g.,\n",
    "# 987654321987654321 ). Print the value and its type. What do you notice about\n",
    "# the size of the number?\n",
    "num = 987654321987654321\n",
    "print(\"Big number:\", num)\n",
    "print(\"data type of num is:\",type(num))"
   ]
  },
  {
   "cell_type": "code",
   "execution_count": 11,
   "id": "d607d767",
   "metadata": {},
   "outputs": [
    {
     "name": "stdout",
     "output_type": "stream",
     "text": [
      "multiplying two floats: 9.25\n",
      "Data type of the result: <class 'float'>\n"
     ]
    }
   ],
   "source": [
    "#10.Write a Python program that prints the result of multiplying two floats (e.g.,\n",
    "# 2.5 and 3.7 ). Then check and print the data type of the result.\n",
    "f1 = 2.5\n",
    "f2 = 3.7\n",
    "print(\"multiplying two floats:\", f1 * f2)\n",
    "print(\"Data type of the result:\", type(f1 * f2))"
   ]
  },
  {
   "cell_type": "code",
   "execution_count": null,
   "id": "7172d14d",
   "metadata": {},
   "outputs": [],
   "source": []
  }
 ],
 "metadata": {
  "kernelspec": {
   "display_name": "base",
   "language": "python",
   "name": "python3"
  },
  "language_info": {
   "codemirror_mode": {
    "name": "ipython",
    "version": 3
   },
   "file_extension": ".py",
   "mimetype": "text/x-python",
   "name": "python",
   "nbconvert_exporter": "python",
   "pygments_lexer": "ipython3",
   "version": "3.12.7"
  }
 },
 "nbformat": 4,
 "nbformat_minor": 5
}
