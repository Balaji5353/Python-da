{
 "cells": [
  {
   "cell_type": "code",
   "execution_count": null,
   "id": "5e134d88",
   "metadata": {},
   "outputs": [
    {
     "name": "stdout",
     "output_type": "stream",
     "text": [
      "Even\n"
     ]
    }
   ],
   "source": [
    "# Write a Python program that checks if a number entered by the user is even\n",
    "# or odd. Print \"Even\" if the number is even and \"Odd\" if it is odd.\n",
    "num = int(input(\"Enter a number: \"))\n",
    "if num % 2 == 0:\n",
    "    print(\"Even\")\n",
    "else:\n",
    "    print(\"Odd\")\n"
   ]
  },
  {
   "cell_type": "code",
   "execution_count": 9,
   "id": "8dde410e",
   "metadata": {},
   "outputs": [
    {
     "name": "stdout",
     "output_type": "stream",
     "text": [
      "Teenager\n"
     ]
    }
   ],
   "source": [
    "# Create a program that prompts the user for their age and prints whether\n",
    "# they are a child (0-12), teenager (13-19), or adult (20 and above)\n",
    "age = int(input(\"Enter your age: \"))\n",
    "if age < 0:\n",
    "    print(\"Invalid age\")\n",
    "elif age <= 12:\n",
    "    print(\"Child\")\n",
    "elif age <= 19:\n",
    "    print(\"Teenager\")\n",
    "else:\n",
    "    print(\"Adult\")\n",
    "    "
   ]
  },
  {
   "cell_type": "code",
   "execution_count": 12,
   "id": "44e8a6aa",
   "metadata": {},
   "outputs": [
    {
     "name": "stdout",
     "output_type": "stream",
     "text": [
      "2 is larger than 1\n"
     ]
    }
   ],
   "source": [
    "# Write a program that takes two numbers as input from the user and prints\n",
    "# which number is larger. If both numbers are equal, print \"Both numbers are\n",
    "# equal.\"\n",
    "num1 = int(input(\"Enter the first number: \"))\n",
    "num2 = int(input(\"Enter the second number: \"))\n",
    "if num1 > num2:\n",
    "    print(f\"{num1} is larger than {num2}\")\n",
    "elif num1 < num2:\n",
    "    print(f\"{num2} is larger than {num1}\")\n",
    "else:\n",
    "    print(\"Both numbers are equal.\")\n"
   ]
  },
  {
   "cell_type": "code",
   "execution_count": 13,
   "id": "951e917f",
   "metadata": {},
   "outputs": [
    {
     "name": "stdout",
     "output_type": "stream",
     "text": [
      "Access Denied\n"
     ]
    }
   ],
   "source": [
    "# Create a program that checks if a user-entered password matches the\n",
    "# string \"securePassword\". Print \"Access Granted\" if it matches, otherwise\n",
    "# print \"Access Denied.\"\n",
    "password = input(\"Enter your password: \")\n",
    "if password == \"securePassword\":\n",
    "    print(\"Access Granted\")\n",
    "else:\n",
    "    print(\"Access Denied\")\n",
    "    "
   ]
  },
  {
   "cell_type": "code",
   "execution_count": 17,
   "id": "64bb4770",
   "metadata": {},
   "outputs": [
    {
     "name": "stdout",
     "output_type": "stream",
     "text": [
      "Grade: B\n"
     ]
    }
   ],
   "source": [
    "# Write a program that takes a score from the user (0-100) and prints the\n",
    "# corresponding grade:\n",
    "# A for 90-100\n",
    "# B for 80-89\n",
    "# C for 70-79\n",
    "# D for 60-69\n",
    "# F for below 60\n",
    "score = int(input(\"Enter your score (0-100): \"))\n",
    "if score < 0 or score > 100:\n",
    "    print(\"Invalid score\")  \n",
    "elif score >= 90:\n",
    "    print(\"Grade: A\")\n",
    "elif score >= 80:\n",
    "    print(\"Grade: B\")\n",
    "elif score >= 70:\n",
    "    print(\"Grade: C\")\n",
    "elif score >= 60:\n",
    "    print(\"Grade: D\")\n",
    "else:\n",
    "    print(\"Grade: F\")\n",
    "    "
   ]
  },
  {
   "cell_type": "code",
   "execution_count": null,
   "id": "1b9ce8db",
   "metadata": {},
   "outputs": [
    {
     "name": "stdout",
     "output_type": "stream",
     "text": [
      "The number is positive.\n"
     ]
    }
   ],
   "source": [
    "\n",
    "# Create a program that asks the user for a number and checks if it is\n",
    "# positive, negative, or zero. Print the corresponding message\n",
    "number = int(input(\"Enter a number: \"))\n",
    "if number > 0:\n",
    "    print(\"The number is positive.\")\n",
    "elif number < 0:\n",
    "    print(\"The number is negative.\")\n",
    "elif number == 0:\n",
    "    print(\"The number is zero.\")\n",
    "\n"
   ]
  },
  {
   "cell_type": "code",
   "execution_count": 23,
   "id": "9daf0b77",
   "metadata": {},
   "outputs": [
    {
     "name": "stdout",
     "output_type": "stream",
     "text": [
      "The largest number is 10\n"
     ]
    }
   ],
   "source": [
    "# Write a program that takes three numbers from the user and determines the\n",
    "# largest of the three. Print the largest number\n",
    "num1 = int(input(\"Enter the first number: \"))\n",
    "num2 = int(input(\"Enter the second number: \"))  \n",
    "num3 = int(input(\"Enter the third number: \"))\n",
    "if num1 >= num2 and num1 >= num3:\n",
    "    print(f\"The largest number is {num1}\")\n",
    "elif num2 >= num1 and num2 >= num3:\n",
    "    print(f\"The largest number is {num2}\")\n",
    "else:\n",
    "    print(f\"The largest number is {num3}\")\n",
    "    "
   ]
  },
  {
   "cell_type": "code",
   "execution_count": 25,
   "id": "c1a9598e",
   "metadata": {},
   "outputs": [
    {
     "name": "stdout",
     "output_type": "stream",
     "text": [
      "m is a consonant.\n"
     ]
    }
   ],
   "source": [
    "# Create a program that checks if a user-entered character is a vowel (a, e, i,\n",
    "# o, u) or a consonant. Print the corresponding message\n",
    "char = input(\"Enter a character: \").lower()\n",
    "if len(char) == 1 and char.isalpha():\n",
    "    if char in 'aeiou':\n",
    "        print(f\"{char} is a vowel.\")\n",
    "    else:\n",
    "        print(f\"{char} is a consonant.\")\n",
    "else:\n",
    "    print(\"Please enter a single alphabetic character.\")\n",
    "\n"
   ]
  },
  {
   "cell_type": "code",
   "execution_count": 27,
   "id": "35a2dae6",
   "metadata": {},
   "outputs": [
    {
     "name": "stdout",
     "output_type": "stream",
     "text": [
      "2030 is not a leap year.\n"
     ]
    }
   ],
   "source": [
    "# Write a program that checks if a given year is a leap year. A year is a leap\n",
    "# year if it is divisible by 4, except for years that are divisible by 100 but not\n",
    "# divisible by 400.\n",
    "year = int(input(\"Enter a year: \"))\n",
    "if (year % 4 == 0 and year % 100 != 0) or (year % 400 == 0):\n",
    "    print(f\"{year} is a leap year.\")\n",
    "else:\n",
    "    print(f\"{year} is not a leap year.\")    \n"
   ]
  },
  {
   "cell_type": "code",
   "execution_count": 29,
   "id": "a1a5f33a",
   "metadata": {},
   "outputs": [
    {
     "name": "stdout",
     "output_type": "stream",
     "text": [
      "Temperature in Fahrenheit: 50.0\n",
      "it's not boilling yet\n"
     ]
    }
   ],
   "source": [
    "# Create a program that prompts the user for a temperature in Celsius and\n",
    "# converts it to Fahrenheit. If the converted temperature is greater than 100°F,\n",
    "# print \"It's boiling!\" Otherwise, print \"It's not boiling yet.\"\n",
    "celsius = float(input(\"Enter temperature in Celsius: \"))\n",
    "fahrenheit = (celsius * 9/5) + 32  \n",
    "print(\"Temperature in Fahrenheit:\", fahrenheit)\n",
    "if  fahrenheit > 100 :\n",
    "    print(\"it's boilling\")\n",
    "else:\n",
    "    print(\"it's not boilling yet\")\n"
   ]
  }
 ],
 "metadata": {
  "kernelspec": {
   "display_name": "base",
   "language": "python",
   "name": "python3"
  },
  "language_info": {
   "codemirror_mode": {
    "name": "ipython",
    "version": 3
   },
   "file_extension": ".py",
   "mimetype": "text/x-python",
   "name": "python",
   "nbconvert_exporter": "python",
   "pygments_lexer": "ipython3",
   "version": "3.12.7"
  }
 },
 "nbformat": 4,
 "nbformat_minor": 5
}
